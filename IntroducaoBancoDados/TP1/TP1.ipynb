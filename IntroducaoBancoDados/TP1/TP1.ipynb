{
  "cells": [
    {
      "cell_type": "markdown",
      "source": [
        "# TRABALHO PRÁTICO 1\n"
      ],
      "metadata": {
        "id": "eBY8RGfz2E1j"
      }
    },
    {
      "cell_type": "markdown",
      "source": [
        "  O objetivo desse trabalho é avaliar a capacidade do aluno de gerar consultas em SQL a partir das questões propostas. Um Banco de Dados foi adaptado exclusivamente para esta tarefa, a partir dos dados de Pagamento, Passagem, Trecho e Viagem, disponibilizados em:\n",
        "*   [Portal da Transparência - Viagens realizadas a serviço](https://portaldatransparencia.gov.br/download-de-dados/viagens)"
      ],
      "metadata": {
        "id": "TEgetfHo13ri"
      }
    },
    {
      "cell_type": "markdown",
      "source": [
        "**IMPORTANTE**:\n",
        "\n",
        "1.   Altere apenas dentro das aspas duplas onde estiver escrito *Altere Aqui*.\n",
        "2.   Não serão necessárias alterações em funções ou outras partes do código.\n",
        "3.   Após finalizar todas as consultas, clique em *Kernel -> Restart and Run All* no ambiente Jupyter.\n",
        "4.   Altere o nome do arquivo *TP1_matricula.ipynb* adicionando o seu número de matrícula substituindo onde está escrito matrícula.\n",
        "5.   Um arquivo *.csv* com a sua matrícula será gerado automaticamente no diretório do ambiente.\n",
        "6.   Compactar os arquivos *TP1_matricula.ipynb* e *matricula.csv* em *matricula.zip* e submeter na tarefa criada para o TP1 via Moodle.\n",
        "\n",
        "\n",
        "\n"
      ],
      "metadata": {
        "id": "gQabrrBfOLLh"
      }
    },
    {
      "cell_type": "code",
      "source": [
        "#NÃO ALTERE AS LINHAS ABAIXO\n",
        "import sys\n",
        "#!{sys.executable} -m pip install sqlite3\n",
        "!{sys.executable} -m pip install pandas\n",
        "#!{sys.executable} -m pip install csv\n",
        "!{sys.executable} -m pip install gdown"
      ],
      "metadata": {
        "id": "6FnNsp038eNA"
      },
      "execution_count": null,
      "outputs": []
    },
    {
      "cell_type": "code",
      "execution_count": 2,
      "metadata": {
        "id": "UTEN6eIxoIW2"
      },
      "outputs": [],
      "source": [
        "#NÃO ALTERE AS LINHAS ABAIXO\n",
        "import sqlite3 as sql3\n",
        "import pandas as pd\n",
        "import csv\n",
        "import gdown"
      ]
    },
    {
      "cell_type": "markdown",
      "source": [
        "## Banco de Dados\n",
        "Caso queira, você poderá fazer o download do banco de dados para explorá-lo:\n",
        "*   [Banco de Dados - Viagens](https://drive.google.com/file/d/1nRbN_o1yi3gNvznBmQlZuKvui5AA4-a4/view?usp=sharing)\n",
        "\n",
        "**OBS**: Esse processo não é necessário para execução do trabalho, pois tudo o que você irá precisar, o próprio notebook já irá buscar, gerar e conectar ao banco fornecido, nas células 2 e 3."
      ],
      "metadata": {
        "id": "MZfJfrgrOdUz"
      }
    },
    {
      "cell_type": "code",
      "execution_count": null,
      "metadata": {
        "id": "UrY52E3oowC-"
      },
      "outputs": [],
      "source": [
        "#NÃO ALTERE AS LINHAS ABAIXO\n",
        "!gdown \"1nRbN_o1yi3gNvznBmQlZuKvui5AA4-a4\""
      ]
    },
    {
      "cell_type": "code",
      "source": [
        "#NÃO ALTERE AS LINHAS ABAIXO\n",
        "con = sql3.connect(\":memory:\")\n",
        "sql_file = open('bancoDadosViagens.sql', encoding=\"utf8\")\n",
        "cur = con.cursor()\n",
        "db = sql_file.read()\n",
        "cur.executescript(db)\n",
        "con.commit()"
      ],
      "metadata": {
        "id": "DfPu88XYnWvM"
      },
      "execution_count": 4,
      "outputs": []
    },
    {
      "cell_type": "markdown",
      "source": [
        "## Estrutura das Tabelas do Banco de Dados Viagens\n",
        "\n",
        "Nas células de 5 a 9 abaixo, estão listadas as informações referentes aos campos e tipos de dados relacionados a todas as tabelas do Banco de Dados Viagens:"
      ],
      "metadata": {
        "id": "-3YwrO_-l2WZ"
      }
    },
    {
      "cell_type": "markdown",
      "source": [
        "### TABELA ORGAO"
      ],
      "metadata": {
        "id": "YNbhzCECo-cG"
      }
    },
    {
      "cell_type": "code",
      "source": [
        "#NÃO ALTERE AS LINHAS ABAIXO\n",
        "query = \"PRAGMA table_info('orgao')\"\n",
        "df = pd.read_sql(query, con)\n",
        "display(df)"
      ],
      "metadata": {
        "id": "8jkvRmLal28e"
      },
      "execution_count": null,
      "outputs": []
    },
    {
      "cell_type": "markdown",
      "source": [
        "### TABELA VIAGEM"
      ],
      "metadata": {
        "id": "8hfCV641pC9H"
      }
    },
    {
      "cell_type": "code",
      "source": [
        "#NÃO ALTERE AS LINHAS ABAIXO\n",
        "query = \"PRAGMA table_info('viagem')\"\n",
        "df = pd.read_sql(query, con)\n",
        "display(df)"
      ],
      "metadata": {
        "id": "KixV7M2lpIue"
      },
      "execution_count": null,
      "outputs": []
    },
    {
      "cell_type": "markdown",
      "source": [
        "### TABELA PASSAGEM"
      ],
      "metadata": {
        "id": "D3Rt9RGApJIc"
      }
    },
    {
      "cell_type": "code",
      "source": [
        "#NÃO ALTERE AS LINHAS ABAIXO\n",
        "query = \"PRAGMA table_info('passagem')\"\n",
        "df = pd.read_sql(query, con)\n",
        "display(df)"
      ],
      "metadata": {
        "id": "ipQyCv7EpLif"
      },
      "execution_count": null,
      "outputs": []
    },
    {
      "cell_type": "markdown",
      "source": [
        "### TABELA TRECHO"
      ],
      "metadata": {
        "id": "OkYuOWLopLvH"
      }
    },
    {
      "cell_type": "code",
      "source": [
        "#NÃO ALTERE AS LINHAS ABAIXO\n",
        "query = \"PRAGMA table_info('trecho')\"\n",
        "df = pd.read_sql(query, con)\n",
        "display(df)"
      ],
      "metadata": {
        "id": "6OzRcTiOpN3j"
      },
      "execution_count": null,
      "outputs": []
    },
    {
      "cell_type": "markdown",
      "source": [
        "### TABELA PAGAMENTO"
      ],
      "metadata": {
        "id": "mME1mUVIpODT"
      }
    },
    {
      "cell_type": "code",
      "source": [
        "#NÃO ALTERE AS LINHAS ABAIXO\n",
        "query = \"PRAGMA table_info('pagamento')\"\n",
        "df = pd.read_sql(query, con)\n",
        "display(df)"
      ],
      "metadata": {
        "id": "B6B4VS0QpRcO"
      },
      "execution_count": null,
      "outputs": []
    },
    {
      "cell_type": "markdown",
      "source": [
        "## Arquivo de Resultados\n",
        "Na célula 10 abaixo, você irá colocar o numero da sua matrícula. Essa é a primeira alteração necessária para executar o TP. A partir das células 10 e 11, o arquivo de resultado será gerado.\n"
      ],
      "metadata": {
        "id": "yrtZ8sTRP3TB"
      }
    },
    {
      "cell_type": "code",
      "source": [
        "matricula = \"ALTERE AQUI - Digite a sua matrícula\""
      ],
      "metadata": {
        "id": "KSY2f9O34Lhk"
      },
      "execution_count": 10,
      "outputs": []
    },
    {
      "cell_type": "code",
      "source": [
        "#NÃO ALTERE AS LINHAS ABAIXO\n",
        "tp1_csv = matricula+\".csv\"\n",
        "queries = open(tp1_csv, 'w')\n",
        "writer = csv.writer(queries, delimiter=';')\n",
        "writer.writerow([\"Query Number\", \"Row Count\", \"Query\"])"
      ],
      "metadata": {
        "id": "6hcHAMc_5EV_"
      },
      "execution_count": null,
      "outputs": []
    },
    {
      "cell_type": "markdown",
      "source": [
        "## Função de Consulta\n",
        "A função abaixo executa a consulta, exibe o retorno da consulta no banco e grava os dados necessários no arquivo resultado."
      ],
      "metadata": {
        "id": "uhNxD8rdQNCh"
      }
    },
    {
      "cell_type": "code",
      "source": [
        "#NÃO ALTERE AS LINHAS ABAIXO\n",
        "def runQuery(query, query_name):\n",
        "  df = pd.read_sql(query, con)\n",
        "  query_size = df.shape[0]\n",
        "  writer.writerow([query_name, query_size, query])\n",
        "  display(df)"
      ],
      "metadata": {
        "id": "_gPzai2DnYTB"
      },
      "execution_count": 13,
      "outputs": []
    },
    {
      "cell_type": "markdown",
      "source": [
        "## PARTE 1 - Transformar Algebra Relacional para SQL\n",
        "Abaixo, seguem as consultas que voce terá de transformar de Algebra Relacional para SQL. Altere **APENAS** o espaço entre as aspas. Dentro desse espaço é que você deverá digitar o comando de execução da consulta."
      ],
      "metadata": {
        "id": "lRYyoTpcXfIV"
      }
    },
    {
      "cell_type": "markdown",
      "source": [
        "### 1 - $\\pi_{id\\_viagem,origem\\_cidade,destino\\_cidade} \\: \\sigma_{transporte='Rodoviario'}$ (trecho)\n"
      ],
      "metadata": {
        "id": "dRwnzh8kYK_G"
      }
    },
    {
      "cell_type": "code",
      "source": [
        "a1 = \"ALTERE AQUI - Digite a consulta SQL correspondente\"\n",
        "#NÃO ALTERE A LINHA ABAIXO\n",
        "runQuery(a1, \"a1\")"
      ],
      "metadata": {
        "id": "K0ISjW0gXxVC"
      },
      "execution_count": null,
      "outputs": []
    },
    {
      "cell_type": "markdown",
      "source": [
        "### 2 - $\\pi_{id\\_pagamento,valor} \\: \\sigma_{valor>1000}$ (pagamento)"
      ],
      "metadata": {
        "id": "1REuYZGrY92T"
      }
    },
    {
      "cell_type": "code",
      "source": [
        "a2 = \"ALTERE AQUI - Digite a consulta SQL correspondente\"\n",
        "#NÃO ALTERE A LINHA ABAIXO\n",
        "runQuery(a2, \"a2\")"
      ],
      "metadata": {
        "id": "JIUuV2_RXxhS"
      },
      "execution_count": null,
      "outputs": []
    },
    {
      "cell_type": "markdown",
      "source": [
        "### 3 - $\\pi_{orgao.nome\\_orgao,pagamento.valor} \\: \\sigma_{pagamento.id\\_orgao\\_superior=orgao.id\\_orgao \\wedge pagamento.valor < 200}$ (pagamento $\\times$ orgao)"
      ],
      "metadata": {
        "id": "NzOHoiA6ZBul"
      }
    },
    {
      "cell_type": "code",
      "source": [
        "a3 = \"ALTERE AQUI - Digite a consulta SQL correspondente\"\n",
        "#NÃO ALTERE A LINHA ABAIXO\n",
        "runQuery(a3, \"a3\")"
      ],
      "metadata": {
        "id": "xd-dr96uXxu9"
      },
      "execution_count": null,
      "outputs": []
    },
    {
      "cell_type": "markdown",
      "source": [
        "### 4 - $\\pi_{id\\_viagem,sequencia\\_trecho,destino\\_viagem} \\: \\sigma_{sequencia\\_trecho=5}$ (viagem $\\bowtie$ trecho)"
      ],
      "metadata": {
        "id": "1yvlpqVjZFho"
      }
    },
    {
      "cell_type": "code",
      "source": [
        "a4 = \"ALTERE AQUI - Digite a consulta SQL correspondente\"\n",
        "#NÃO ALTERE A LINHA ABAIXO\n",
        "runQuery(a4, \"a4\")"
      ],
      "metadata": {
        "id": "gHfP3j2DXx6P"
      },
      "execution_count": null,
      "outputs": []
    },
    {
      "cell_type": "markdown",
      "source": [
        "### 5 - $\\pi_{id\\_pagamento,valor} \\: \\sigma_{viagem\\_urgente=SIM}$ (pagamento $\\bowtie$ viagem)\n"
      ],
      "metadata": {
        "id": "oPCZUoeNZNGA"
      }
    },
    {
      "cell_type": "code",
      "source": [
        "a5 = \"ALTERE AQUI - Digite a consulta SQL correspondente\"\n",
        "#NÃO ALTERE A LINHA ABAIXO\n",
        "runQuery(a5, \"a5\")"
      ],
      "metadata": {
        "id": "9_gkv1k1XydB"
      },
      "execution_count": null,
      "outputs": []
    },
    {
      "cell_type": "markdown",
      "source": [
        "## PARTE 2 - Consultas SQL\n",
        "Abaixo, seguem as consultas que voce terá de executar. Altere **APENAS** o espaço entre as aspas. Dentro desse espaço é que você deverá digitar o comando de execução da consulta."
      ],
      "metadata": {
        "id": "2l0qzHBRSoro"
      }
    },
    {
      "cell_type": "markdown",
      "source": [
        "### 1 - Liste os campos id\\_viagem, situacao, nome\\_viajante, data\\_inicio, data\\_fim e destino\\_viagem para todas as viagens com data de inicio entre 2022-01-09 e 2022-01-16 (incluso):\n",
        "\n",
        "**OBS:** Se atentar para o formato da data no banco (ano-mês-dia)"
      ],
      "metadata": {
        "id": "CvnC0xN2TB0x"
      }
    },
    {
      "cell_type": "code",
      "source": [
        "q1 = \"ALTERE AQUI - Digite a consulta SQL correspondente\"\n",
        "#NÃO ALTERE A LINHA ABAIXO\n",
        "runQuery(q1, \"q1\")"
      ],
      "metadata": {
        "id": "D6IAlQow3DM8"
      },
      "execution_count": null,
      "outputs": []
    },
    {
      "cell_type": "markdown",
      "source": [
        "### 2 - Liste todos os códigos e nomes dos órgãos que tenham a palavra \"Nacional\" no nome:"
      ],
      "metadata": {
        "id": "cHnE0cZyTq-K"
      }
    },
    {
      "cell_type": "code",
      "source": [
        "q2 = \"ALTERE AQUI - Digite a consulta SQL correspondente\"\n",
        "#NÃO ALTERE A LINHA ABAIXO\n",
        "runQuery(q2, \"q2\")"
      ],
      "metadata": {
        "id": "qJj2evYi9uPp"
      },
      "execution_count": null,
      "outputs": []
    },
    {
      "cell_type": "markdown",
      "source": [
        "### 3 - Liste os campos nome\\_viajante e cargo\\_funcao\\_viajante dos servidores que tenham nome que termina com \"SANTOS\"\n",
        "**Obs:** pesquisar a palavra em caixa alta"
      ],
      "metadata": {
        "id": "7d9DopVBT2LF"
      }
    },
    {
      "cell_type": "code",
      "source": [
        "q3 = \"ALTERE AQUI - Digite a consulta SQL correspondente\"\n",
        "#NÃO ALTERE A LINHA ABAIXO\n",
        "runQuery(q3, \"q3\")"
      ],
      "metadata": {
        "id": "6USqrESAJJl9"
      },
      "execution_count": null,
      "outputs": []
    },
    {
      "cell_type": "markdown",
      "source": [
        "### 4 - Liste os 50 primeiros nomes dos servidores e valores das passagens que tiveram \"São Paulo\" como o estado de origem da ida da passagem. O resultado deverá ser ordenado primeiramente pelo valor e depois pelo nome, os dois em ordem crescente:"
      ],
      "metadata": {
        "id": "IqsiU4KFUD2W"
      }
    },
    {
      "cell_type": "code",
      "source": [
        "q4 = \"ALTERE AQUI - Digite a consulta SQL correspondente\"\n",
        "#NÃO ALTERE A LINHA ABAIXO\n",
        "runQuery(q4, \"q4\")"
      ],
      "metadata": {
        "id": "d9XKVY69JJKu"
      },
      "execution_count": null,
      "outputs": []
    },
    {
      "cell_type": "markdown",
      "source": [
        "### 5 - Liste o nome do órgão superior e a quantidade de viagens urgentes realizadas que cada órgão superior pagou. Em orderm crescente de número de viagens:"
      ],
      "metadata": {
        "id": "oZHwfdUjUh-0"
      }
    },
    {
      "cell_type": "code",
      "source": [
        "q5 = \"ALTERE AQUI - Digite a consulta SQL correspondente\"\n",
        "#NÃO ALTERE A LINHA ABAIXO\n",
        "runQuery(q5, \"q5\")"
      ],
      "metadata": {
        "id": "FgGtoeqfJOC8"
      },
      "execution_count": null,
      "outputs": []
    },
    {
      "cell_type": "markdown",
      "source": [
        "### 6 - Liste o campo id\\_viagem e o total do campo valor do pagamento de viagens solicitadas pelo órgão de código 52000:"
      ],
      "metadata": {
        "id": "hI8FPQXEUxmJ"
      }
    },
    {
      "cell_type": "code",
      "source": [
        "q6 = \"ALTERE AQUI - Digite a consulta SQL correspondente\"\n",
        "#NÃO ALTERE A LINHA ABAIXO\n",
        "runQuery(q6, \"q6\")"
      ],
      "metadata": {
        "id": "86wdM8M3JOSy"
      },
      "execution_count": null,
      "outputs": []
    },
    {
      "cell_type": "markdown",
      "source": [
        "### 7 - Liste os ids das viagens que tenham mais de 3 passagens (4 ou mais) e o valor da passagem mais barata de cada uma:"
      ],
      "metadata": {
        "id": "MVeODvQLVnC2"
      }
    },
    {
      "cell_type": "code",
      "source": [
        "q7 = \"ALTERE AQUI - Digite a consulta SQL correspondente\"\n",
        "#NÃO ALTERE A LINHA ABAIXO\n",
        "runQuery(q7, \"q7\")"
      ],
      "metadata": {
        "id": "edYyqGoCJOXy"
      },
      "execution_count": null,
      "outputs": []
    },
    {
      "cell_type": "markdown",
      "source": [
        "### 8 - Liste todos os ids dos trechos das viagens que não tem \"Brasil\" como país de origem e que o viajante possui a palavra \"MINISTRO\" no nome da função/cargo:"
      ],
      "metadata": {
        "id": "Zol-cAqOV5Om"
      }
    },
    {
      "cell_type": "code",
      "source": [
        "q8 = \"ALTERE AQUI - Digite a consulta SQL correspondente\"\n",
        "#NÃO ALTERE A LINHA ABAIXO\n",
        "runQuery(q8, \"q8\")"
      ],
      "metadata": {
        "id": "7S3rNj7fJOaU"
      },
      "execution_count": null,
      "outputs": []
    },
    {
      "cell_type": "markdown",
      "source": [
        "### 9 - Liste, em ordem alfabética, os nomes de todos os órgãos superiores que custearam as despesas das viagens que tiveram gastos com diárias maiores que 0 e menores que 1000."
      ],
      "metadata": {
        "id": "EJlHLd2EWHmM"
      }
    },
    {
      "cell_type": "code",
      "source": [
        "q9 = \"ALTERE AQUI - Digite a consulta SQL correspondente\"\n",
        "#NÃO ALTERE A LINHA ABAIXO\n",
        "runQuery(q9, \"q9\")"
      ],
      "metadata": {
        "id": "0I2xuul5JOce"
      },
      "execution_count": null,
      "outputs": []
    },
    {
      "cell_type": "markdown",
      "source": [
        "### 10 - Liste os ids das viagens urgentes que têm algum trecho em que o transporte não foi \"Aéreo\" nem \"Rodoviário\", o nome do viajante e o valor total dos gastos da viagem indicados na tabela pagamento (com o nome \"valor\\_total\\_pago\\_viagem\"). O resultado deverá considerar apenas as viagens que tiveram gastos com \"PASSAGEM\" e deverá ser exibido em ordem alfabética em relação ao nome do viajante:"
      ],
      "metadata": {
        "id": "yRqjnag9WTcY"
      }
    },
    {
      "cell_type": "code",
      "source": [
        "q10 = \"ALTERE AQUI - Digite a consulta SQL correspondente\"\n",
        "#NÃO ALTERE A LINHA ABAIXO\n",
        "runQuery(q10, \"q10\")"
      ],
      "metadata": {
        "id": "L475F4fUJOei"
      },
      "execution_count": null,
      "outputs": []
    },
    {
      "cell_type": "markdown",
      "source": [
        "# Finalizando o Banco de Dados e o Arquivo de Consultas gerado:"
      ],
      "metadata": {
        "id": "xqbHWlAJAF_M"
      }
    },
    {
      "cell_type": "code",
      "source": [
        "#NÃO ALTERE AS LINHAS ABAIXO\n",
        "queries.close()\n",
        "con.close()"
      ],
      "metadata": {
        "id": "liMikAbtIauA"
      },
      "execution_count": 29,
      "outputs": []
    },
    {
      "cell_type": "markdown",
      "source": [
        "## Compactando Arquivos\n",
        "Na célula abaixo, substitua onde está escrito MATRÍCULA pelo seu número de matrícula."
      ],
      "metadata": {
        "id": "ZpgeqGXs7TUp"
      }
    },
    {
      "cell_type": "code",
      "source": [
        "#ALTERE ONDE ESTÁ ESCRITO MATRICULA para o numero de sua Matrícula\n",
        "!zip -r \"MATRICULA.zip\" \"TP1_matricula.ipynb\" \"MATRICULA.csv\""
      ],
      "metadata": {
        "id": "a_nL7tLM7k7q"
      },
      "execution_count": null,
      "outputs": []
    },
    {
      "cell_type": "markdown",
      "source": [
        "**LEMBRE-SE:** Após finalizar todas as consultas, clique em *Kernel -> Restart and Run All* no ambiente em que estiver usando (Jupyter ou Google Colab)\n",
        "\n",
        "Caso esteja usando o Google Colab, colocar manualmente o arquivo .ipynb no zip"
      ],
      "metadata": {
        "id": "2ftAbAxDWqG2"
      }
    }
  ],
  "metadata": {
    "colab": {
      "provenance": []
    },
    "kernelspec": {
      "display_name": "Python 3",
      "name": "python3"
    },
    "language_info": {
      "name": "python"
    }
  },
  "nbformat": 4,
  "nbformat_minor": 0
}